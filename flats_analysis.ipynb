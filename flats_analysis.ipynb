{
 "cells": [
  {
   "cell_type": "code",
   "execution_count": 1,
   "metadata": {},
   "outputs": [],
   "source": [
    "import pandas as pd\n",
    "import matplotlib.pyplot as plt"
   ]
  },
  {
   "cell_type": "code",
   "execution_count": 2,
   "metadata": {},
   "outputs": [
    {
     "data": {
      "text/html": [
       "<div>\n",
       "<style scoped>\n",
       "    .dataframe tbody tr th:only-of-type {\n",
       "        vertical-align: middle;\n",
       "    }\n",
       "\n",
       "    .dataframe tbody tr th {\n",
       "        vertical-align: top;\n",
       "    }\n",
       "\n",
       "    .dataframe thead th {\n",
       "        text-align: right;\n",
       "    }\n",
       "</style>\n",
       "<table border=\"1\" class=\"dataframe\">\n",
       "  <thead>\n",
       "    <tr style=\"text-align: right;\">\n",
       "      <th></th>\n",
       "      <th>Cena</th>\n",
       "      <th>Wielkość (m2)</th>\n",
       "      <th>Liczba pokoi</th>\n",
       "      <th>Lokalizacja</th>\n",
       "      <th>Do wynajęcia przez</th>\n",
       "      <th>Rodzaj nieruchomości</th>\n",
       "    </tr>\n",
       "  </thead>\n",
       "  <tbody>\n",
       "    <tr>\n",
       "      <th>0</th>\n",
       "      <td>2500.0</td>\n",
       "      <td>49.0</td>\n",
       "      <td>3.0</td>\n",
       "      <td>Białołęka</td>\n",
       "      <td>Agencja</td>\n",
       "      <td>Mieszkanie</td>\n",
       "    </tr>\n",
       "    <tr>\n",
       "      <th>1</th>\n",
       "      <td>2500.0</td>\n",
       "      <td>57.0</td>\n",
       "      <td>3.0</td>\n",
       "      <td>Żoliborz</td>\n",
       "      <td>Agencja</td>\n",
       "      <td>Mieszkanie</td>\n",
       "    </tr>\n",
       "    <tr>\n",
       "      <th>2</th>\n",
       "      <td>2999.0</td>\n",
       "      <td>57.0</td>\n",
       "      <td>3.0</td>\n",
       "      <td>Mokotów</td>\n",
       "      <td>Właściciel</td>\n",
       "      <td>Mieszkanie</td>\n",
       "    </tr>\n",
       "    <tr>\n",
       "      <th>3</th>\n",
       "      <td>2200.0</td>\n",
       "      <td>110.0</td>\n",
       "      <td>4.0</td>\n",
       "      <td>Wawer</td>\n",
       "      <td>Agencja</td>\n",
       "      <td>Mieszkanie</td>\n",
       "    </tr>\n",
       "    <tr>\n",
       "      <th>4</th>\n",
       "      <td>2500.0</td>\n",
       "      <td>40.0</td>\n",
       "      <td>2.0</td>\n",
       "      <td>Wilanów</td>\n",
       "      <td>Agencja</td>\n",
       "      <td>Mieszkanie</td>\n",
       "    </tr>\n",
       "  </tbody>\n",
       "</table>\n",
       "</div>"
      ],
      "text/plain": [
       "     Cena  Wielkość (m2)  Liczba pokoi Lokalizacja Do wynajęcia przez  \\\n",
       "0  2500.0           49.0           3.0   Białołęka            Agencja   \n",
       "1  2500.0           57.0           3.0    Żoliborz            Agencja   \n",
       "2  2999.0           57.0           3.0     Mokotów         Właściciel   \n",
       "3  2200.0          110.0           4.0       Wawer            Agencja   \n",
       "4  2500.0           40.0           2.0     Wilanów            Agencja   \n",
       "\n",
       "  Rodzaj nieruchomości  \n",
       "0           Mieszkanie  \n",
       "1           Mieszkanie  \n",
       "2           Mieszkanie  \n",
       "3           Mieszkanie  \n",
       "4           Mieszkanie  "
      ]
     },
     "execution_count": 2,
     "metadata": {},
     "output_type": "execute_result"
    }
   ],
   "source": [
    "df = pd.read_csv('flats999.csv')\n",
    "df.head()"
   ]
  },
  {
   "cell_type": "code",
   "execution_count": 3,
   "metadata": {},
   "outputs": [
    {
     "name": "stdout",
     "output_type": "stream",
     "text": [
      "(999, 6)\n",
      "Cena                    float64\n",
      "Wielkość (m2)           float64\n",
      "Liczba pokoi            float64\n",
      "Lokalizacja              object\n",
      "Do wynajęcia przez       object\n",
      "Rodzaj nieruchomości     object\n",
      "dtype: object\n"
     ]
    }
   ],
   "source": [
    "print(df.shape)\n",
    "print(df.dtypes)"
   ]
  },
  {
   "cell_type": "code",
   "execution_count": 4,
   "metadata": {},
   "outputs": [
    {
     "name": "stdout",
     "output_type": "stream",
     "text": [
      "965\n"
     ]
    },
    {
     "data": {
      "image/png": "[encoded data removed]",
      "text/plain": [
       "<Figure size 432x288 with 1 Axes>"
      ]
     },
     "metadata": {
      "needs_background": "light"
     },
     "output_type": "display_data"
    }
   ],
   "source": [
    "#I dropped rows having NaN value in 'Cena' or 'Wielkość (m2)' column from df\n",
    "df = df.dropna(subset = ['Cena', 'Wielkość (m2)'])\n",
    "\n",
    "#and removed outliers:\n",
    "df = df[abs(df['Wielkość (m2)'] - df['Wielkość (m2)'].mean()) < df['Wielkość (m2)'].std()*3]\n",
    "df = df[abs(df.Cena - df.Cena.mean()) < df.Cena.std()/5]\n",
    "\n",
    "df.Cena.plot.hist(bins = 40, density = True, xlim = (0, 10000))\n",
    "df.Cena.plot.density()\n",
    "\n",
    "print(df.shape[0])"
   ]
  },
  {
   "cell_type": "code",
   "execution_count": 5,
   "metadata": {},
   "outputs": [
    {
     "name": "stdout",
     "output_type": "stream",
     "text": [
      "965\n"
     ]
    },
    {
     "data": {
      "image/png": "[encoded data removed]",
      "text/plain": [
       "<Figure size 432x288 with 1 Axes>"
      ]
     },
     "metadata": {
      "needs_background": "light"
     },
     "output_type": "display_data"
    }
   ],
   "source": [
    "df.plot.scatter(x='Wielkość (m2)', y='Cena', s = 4)\n",
    "print(df.shape[0])\n",
    "plt.show()"
   ]
  },
  {
   "cell_type": "code",
   "execution_count": 6,
   "metadata": {},
   "outputs": [
    {
     "data": {
      "image/png": "[encoded data removed]",
      "text/plain": [
       "<Figure size 432x288 with 1 Axes>"
      ]
     },
     "metadata": {
      "needs_background": "light"
     },
     "output_type": "display_data"
    }
   ],
   "source": [
    "#plot showing how many flats and houses are available for rent in different districts of Warsaw\n",
    "district = df.dropna(subset = ['Lokalizacja'])\n",
    "district.Lokalizacja.value_counts().plot.bar()\n",
    "plt.show()"
   ]
  },
  {
   "cell_type": "code",
   "execution_count": 7,
   "metadata": {},
   "outputs": [
    {
     "data": {
      "text/html": [
       "<div>\n",
       "<style scoped>\n",
       "    .dataframe tbody tr th:only-of-type {\n",
       "        vertical-align: middle;\n",
       "    }\n",
       "\n",
       "    .dataframe tbody tr th {\n",
       "        vertical-align: top;\n",
       "    }\n",
       "\n",
       "    .dataframe thead th {\n",
       "        text-align: right;\n",
       "    }\n",
       "</style>\n",
       "<table border=\"1\" class=\"dataframe\">\n",
       "  <thead>\n",
       "    <tr style=\"text-align: right;\">\n",
       "      <th></th>\n",
       "      <th>Lokalizacja</th>\n",
       "      <th>Cena</th>\n",
       "    </tr>\n",
       "  </thead>\n",
       "  <tbody>\n",
       "    <tr>\n",
       "      <th>12</th>\n",
       "      <td>Wesoła</td>\n",
       "      <td>4250.000000</td>\n",
       "    </tr>\n",
       "    <tr>\n",
       "      <th>13</th>\n",
       "      <td>Wilanów</td>\n",
       "      <td>3748.571429</td>\n",
       "    </tr>\n",
       "    <tr>\n",
       "      <th>16</th>\n",
       "      <td>Śródmieście</td>\n",
       "      <td>3736.643979</td>\n",
       "    </tr>\n",
       "    <tr>\n",
       "      <th>9</th>\n",
       "      <td>Ursus</td>\n",
       "      <td>3400.000000</td>\n",
       "    </tr>\n",
       "    <tr>\n",
       "      <th>11</th>\n",
       "      <td>Wawer</td>\n",
       "      <td>3266.666667</td>\n",
       "    </tr>\n",
       "    <tr>\n",
       "      <th>3</th>\n",
       "      <td>Mokotów</td>\n",
       "      <td>3232.089494</td>\n",
       "    </tr>\n",
       "    <tr>\n",
       "      <th>7</th>\n",
       "      <td>Rembertów</td>\n",
       "      <td>3200.000000</td>\n",
       "    </tr>\n",
       "    <tr>\n",
       "      <th>14</th>\n",
       "      <td>Wola</td>\n",
       "      <td>3016.880597</td>\n",
       "    </tr>\n",
       "    <tr>\n",
       "      <th>4</th>\n",
       "      <td>Ochota</td>\n",
       "      <td>2850.566038</td>\n",
       "    </tr>\n",
       "    <tr>\n",
       "      <th>17</th>\n",
       "      <td>Żoliborz</td>\n",
       "      <td>2816.176471</td>\n",
       "    </tr>\n",
       "    <tr>\n",
       "      <th>10</th>\n",
       "      <td>Ursynów</td>\n",
       "      <td>2665.500000</td>\n",
       "    </tr>\n",
       "    <tr>\n",
       "      <th>6</th>\n",
       "      <td>Praga Północ</td>\n",
       "      <td>2634.444444</td>\n",
       "    </tr>\n",
       "    <tr>\n",
       "      <th>8</th>\n",
       "      <td>Targówek</td>\n",
       "      <td>2545.789474</td>\n",
       "    </tr>\n",
       "    <tr>\n",
       "      <th>5</th>\n",
       "      <td>Praga Południe</td>\n",
       "      <td>2534.114286</td>\n",
       "    </tr>\n",
       "    <tr>\n",
       "      <th>0</th>\n",
       "      <td>Bemowo</td>\n",
       "      <td>2488.888889</td>\n",
       "    </tr>\n",
       "    <tr>\n",
       "      <th>15</th>\n",
       "      <td>Włochy</td>\n",
       "      <td>2368.214286</td>\n",
       "    </tr>\n",
       "    <tr>\n",
       "      <th>2</th>\n",
       "      <td>Bielany</td>\n",
       "      <td>2356.115385</td>\n",
       "    </tr>\n",
       "    <tr>\n",
       "      <th>1</th>\n",
       "      <td>Białołęka</td>\n",
       "      <td>2295.454545</td>\n",
       "    </tr>\n",
       "  </tbody>\n",
       "</table>\n",
       "</div>"
      ],
      "text/plain": [
       "       Lokalizacja         Cena\n",
       "12          Wesoła  4250.000000\n",
       "13         Wilanów  3748.571429\n",
       "16     Śródmieście  3736.643979\n",
       "9            Ursus  3400.000000\n",
       "11           Wawer  3266.666667\n",
       "3          Mokotów  3232.089494\n",
       "7        Rembertów  3200.000000\n",
       "14            Wola  3016.880597\n",
       "4           Ochota  2850.566038\n",
       "17        Żoliborz  2816.176471\n",
       "10         Ursynów  2665.500000\n",
       "6     Praga Północ  2634.444444\n",
       "8         Targówek  2545.789474\n",
       "5   Praga Południe  2534.114286\n",
       "0           Bemowo  2488.888889\n",
       "15          Włochy  2368.214286\n",
       "2          Bielany  2356.115385\n",
       "1        Białołęka  2295.454545"
      ]
     },
     "execution_count": 7,
     "metadata": {},
     "output_type": "execute_result"
    }
   ],
   "source": [
    "district.groupby('Lokalizacja', as_index = False)['Cena'].mean().sort_values('Cena', ascending = False)"
   ]
  },
  {
   "cell_type": "code",
   "execution_count": 8,
   "metadata": {},
   "outputs": [
    {
     "name": "stdout",
     "output_type": "stream",
     "text": [
      "count\n",
      "west:  822 \n",
      "east:  143\n"
     ]
    }
   ],
   "source": [
    "west_side = ['Śródmieście', 'Wola', 'Ochota', 'Żoliborz','Bielany', 'Bemowo', \n",
    "             'Ursus', 'Włochy','Wilanów', 'Ursynów', 'Mokotów']\n",
    "east_side = ['Praga południe', 'Praga północ', 'Targówek','Wawer', 'Wesoła', 'Rembertów','Białołęka']\n",
    "\n",
    "west = district[district.Lokalizacja.isin(west_side)].shape[0]\n",
    "east = district.shape[0] - west\n",
    "print('count\\nwest: ', west, '\\neast: ', east)\n",
    "#how many flats are available on each side of Vistula river?"
   ]
  },
  {
   "cell_type": "code",
   "execution_count": 9,
   "metadata": {},
   "outputs": [
    {
     "name": "stdout",
     "output_type": "stream",
     "text": [
      "mean price\n",
      "west:  3196.169099756691 \n",
      "east:  2608.909090909091\n"
     ]
    }
   ],
   "source": [
    "west_mean = district[district.Lokalizacja.isin(west_side)].Cena.mean()\n",
    "east_mean = district[district.Lokalizacja.isin(east_side)].Cena.mean()\n",
    "print('mean price\\nwest: ', west_mean, '\\neast: ', east_mean)\n",
    "#what is the mean price of rental on each side?"
   ]
  },
  {
   "cell_type": "code",
   "execution_count": 10,
   "metadata": {},
   "outputs": [
    {
     "name": "stdout",
     "output_type": "stream",
     "text": [
      "Liczba pokoi\n",
      "1.0    112\n",
      "2.0    576\n",
      "3.0    224\n",
      "4.0     38\n",
      "5.0      9\n",
      "6.0      4\n",
      "dtype: int64\n",
      "---------------\n",
      "Rodzaj nieruchomości\n",
      "Dom            10\n",
      "Mieszkanie    952\n",
      "dtype: int64\n",
      "---------------\n",
      "Do wynajęcia przez\n",
      "Agencja       859\n",
      "Właściciel     96\n",
      "dtype: int64\n"
     ]
    }
   ],
   "source": [
    "print(df.groupby('Liczba pokoi').size())\n",
    "print('---------------')\n",
    "print(df.groupby('Rodzaj nieruchomości').size())\n",
    "print('---------------')\n",
    "print(df.groupby('Do wynajęcia przez').size())"
   ]
  },
  {
   "cell_type": "code",
   "execution_count": null,
   "metadata": {},
   "outputs": [],
   "source": []
  }
 ],
 "metadata": {
  "kernelspec": {
   "display_name": "flats",
   "language": "python",
   "name": "flats"
  },
  "language_info": {
   "codemirror_mode": {
    "name": "ipython",
    "version": 3
   },
   "file_extension": ".py",
   "mimetype": "text/x-python",
   "name": "python",
   "nbconvert_exporter": "python",
   "pygments_lexer": "ipython3",
   "version": "3.6.7"
  }
 },
 "nbformat": 4,
 "nbformat_minor": 2
}
